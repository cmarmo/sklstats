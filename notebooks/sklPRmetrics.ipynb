{
 "cells": [
  {
   "cell_type": "markdown",
   "metadata": {},
   "source": [
    "# Metrics on scikit-learn github repo"
   ]
  },
  {
   "cell_type": "code",
   "execution_count": null,
   "metadata": {},
   "outputs": [],
   "source": [
    "import json\n",
    "import datetime\n",
    "import numpy as np\n",
    "import pandas as pd"
   ]
  },
  {
   "cell_type": "code",
   "execution_count": null,
   "metadata": {},
   "outputs": [],
   "source": [
    "with open(\"../data/pullrequests.json\") as f:\n",
    "    prstr = f.read()"
   ]
  },
  {
   "cell_type": "code",
   "execution_count": null,
   "metadata": {},
   "outputs": [],
   "source": [
    "prjson = json.loads(prstr)\n",
    "ntot = len(prjson)\n",
    "ntot"
   ]
  },
  {
   "cell_type": "code",
   "execution_count": null,
   "metadata": {},
   "outputs": [],
   "source": [
    "creatDate = [ prjson[i][\"node\"][\"createdAt\"] for i in range(0, ntot) ]\n",
    "closDate = [ prjson[i][\"node\"][\"closedAt\"] for i in range(0, ntot) ]\n",
    "number = [ prjson[i][\"node\"][\"number\"] for i in range(0, ntot) ]\n",
    "state = [ prjson[i][\"node\"][\"state\"] for i in range(0, ntot) ]\n",
    "lastEd = [ prjson[i][\"node\"][\"lastEditedAt\"] for i in range(0, ntot) ]\n",
    "nreview = [ prjson[i][\"node\"][\"reviews\"][\"totalCount\"] for i in range(0, ntot) ]"
   ]
  },
  {
   "cell_type": "code",
   "execution_count": null,
   "metadata": {},
   "outputs": [],
   "source": [
    "author = []\n",
    "firstcommentedBy = []\n",
    "firstcommentedAt = []\n",
    "for i in range(0, ntot):\n",
    "    auth = prjson[i][\"node\"][\"author\"]\n",
    "    if (auth != None):\n",
    "        author.append(auth[\"login\"])\n",
    "    else:\n",
    "        author.append(\"\")\n",
    "    comments = prjson[i][\"node\"][\"comments\"][\"edges\"]\n",
    "    if (len(comments) > 0):\n",
    "        if (comments[0][\"node\"][\"author\"] != None):\n",
    "            firstcommentedBy.append(comments[0][\"node\"][\"author\"][\"login\"])\n",
    "        else:\n",
    "            firstcommentedBy.append(\"\")\n",
    "        firstcommentedAt.append(comments[0][\"node\"][\"createdAt\"])\n",
    "    else:    \n",
    "        firstcommentedBy.append(\"\")\n",
    "        firstcommentedAt.append(\"\")"
   ]
  },
  {
   "cell_type": "code",
   "execution_count": null,
   "metadata": {},
   "outputs": [],
   "source": [
    "from datetime import datetime\n",
    "from datetime import timedelta\n",
    "\n",
    "crdate = []\n",
    "cldate = []\n",
    "ledate = []\n",
    "answdate = []\n",
    "duration = []\n",
    "reaction = []\n",
    "delta = timedelta(hours=1)\n",
    "\n",
    "for i in range(0, ntot):\n",
    "    crdate.append(pd.to_datetime(creatDate[i], format='%Y-%m-%dT%H:%M:%SZ'))\n",
    "    cldate.append(pd.to_datetime(closDate[i], format='%Y-%m-%dT%H:%M:%SZ'))\n",
    "    ledate.append(pd.to_datetime(lastEd[i], format='%Y-%m-%dT%H:%M:%SZ'))\n",
    "    if closDate[i] != None:\n",
    "        duration.append(pd.Timedelta.to_pytimedelta(cldate[i] - crdate[i]) / delta )\n",
    "    else:\n",
    "        duration.append(None)\n",
    "    try:\n",
    "        answdate.append(pd.to_datetime(firstcommentedAt[i], format='%Y-%m-%dT%H:%M:%SZ'))\n",
    "        reaction.append(pd.Timedelta.to_pytimedelta(answdate[i] - crdate[i]) / delta )\n",
    "    except:\n",
    "        answdate.append(None)\n",
    "        reaction.append(None)"
   ]
  },
  {
   "cell_type": "code",
   "execution_count": null,
   "metadata": {},
   "outputs": [],
   "source": [
    "ntot"
   ]
  },
  {
   "cell_type": "code",
   "execution_count": null,
   "metadata": {},
   "outputs": [],
   "source": [
    "prdata = { \"Number\" : number, \"CreatedAt\" : crdate, \"ClosedAt\" : cldate,\n",
    "           \"Duration\" : duration, \"lastEditedAt\" : ledate, \"Author\" : author,\n",
    "           \"State\" : state, \"nReviews\" : nreview, \"FcommAuthor\" : firstcommentedBy,\n",
    "           \"FcommDate\" : answdate, \"AnswerTime\" : reaction }\n",
    "prdf = pd.DataFrame(prdata)"
   ]
  },
  {
   "cell_type": "code",
   "execution_count": null,
   "metadata": {},
   "outputs": [],
   "source": [
    "prdf.head()"
   ]
  },
  {
   "cell_type": "code",
   "execution_count": null,
   "metadata": {},
   "outputs": [],
   "source": [
    "import pandas_profiling\n",
    "prdf.profile_report()"
   ]
  },
  {
   "cell_type": "code",
   "execution_count": null,
   "metadata": {},
   "outputs": [],
   "source": [
    "gprdf = prdf.groupby([prdf['CreatedAt'].dt.to_period('Y')]).count().unstack()\n",
    "gprdf['CreatedAt'].plot(kind='bar', color='red')\n",
    "gprdf['ClosedAt'].plot(kind='bar', color='blue')"
   ]
  }
 ],
 "metadata": {
  "kernelspec": {
   "display_name": "Python 3",
   "language": "python",
   "name": "python3"
  },
  "language_info": {
   "codemirror_mode": {
    "name": "ipython",
    "version": 3
   },
   "file_extension": ".py",
   "mimetype": "text/x-python",
   "name": "python",
   "nbconvert_exporter": "python",
   "pygments_lexer": "ipython3",
   "version": "3.7.5"
  }
 },
 "nbformat": 4,
 "nbformat_minor": 2
}
