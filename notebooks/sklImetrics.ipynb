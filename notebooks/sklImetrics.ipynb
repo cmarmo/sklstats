{
 "cells": [
  {
   "cell_type": "markdown",
   "metadata": {},
   "source": [
    "# Metrics on scikit-learn github repo"
   ]
  },
  {
   "cell_type": "code",
   "execution_count": null,
   "metadata": {},
   "outputs": [],
   "source": [
    "import json\n",
    "import datetime\n",
    "import numpy as np\n",
    "import pandas as pd"
   ]
  },
  {
   "cell_type": "code",
   "execution_count": null,
   "metadata": {},
   "outputs": [],
   "source": [
    "with open(\"../data/issues.json\") as f:\n",
    "    istr = f.read()"
   ]
  },
  {
   "cell_type": "code",
   "execution_count": null,
   "metadata": {},
   "outputs": [],
   "source": [
    "ijson = json.loads(istr)\n",
    "ntot = len(ijson)"
   ]
  },
  {
   "cell_type": "code",
   "execution_count": null,
   "metadata": {},
   "outputs": [],
   "source": [
    "creatDate = [ ijson[i][\"node\"][\"createdAt\"] for i in range(0, ntot) ]\n",
    "closDate = [ ijson[i][\"node\"][\"closedAt\"] for i in range(0, ntot) ]\n",
    "number = [ ijson[i][\"node\"][\"number\"] for i in range(0, ntot) ]\n",
    "#author = [ ijson[i][\"node\"][\"author\"][\"login\"] for i in range(0, ntot) ]"
   ]
  },
  {
   "cell_type": "code",
   "execution_count": null,
   "metadata": {},
   "outputs": [],
   "source": [
    "from datetime import datetime\n",
    "from datetime import timedelta\n",
    "\n",
    "crdate = []\n",
    "cldate = []\n",
    "duration = []\n",
    "delta = timedelta(hours=1)\n",
    "\n",
    "for i in range(0, ntot):\n",
    "    crdate.append(pd.to_datetime(creatDate[i], format='%Y-%m-%dT%H:%M:%SZ'))\n",
    "    cldate.append(pd.to_datetime(closDate[i], format='%Y-%m-%dT%H:%M:%SZ'))\n",
    "    if closDate[i] != None:\n",
    "        duration.append(pd.Timedelta.to_pytimedelta(cldate[i] - crdate[i]) / delta )\n",
    "    else:\n",
    "        duration.append(None)"
   ]
  },
  {
   "cell_type": "code",
   "execution_count": null,
   "metadata": {},
   "outputs": [],
   "source": [
    "idata = { \"Number\" : number, \"CreatedAt\" : crdate, \"ClosedAt\" : cldate, \"Duration\" : duration }\n",
    "idf = pd.DataFrame(idata)"
   ]
  },
  {
   "cell_type": "code",
   "execution_count": null,
   "metadata": {},
   "outputs": [],
   "source": [
    "idf.head()"
   ]
  },
  {
   "cell_type": "code",
   "execution_count": null,
   "metadata": {
    "scrolled": false
   },
   "outputs": [],
   "source": [
    "import pandas_profiling\n",
    "idf.profile_report()"
   ]
  },
  {
   "cell_type": "code",
   "execution_count": null,
   "metadata": {},
   "outputs": [],
   "source": [
    "gidf = idf.groupby([idf['CreatedAt'].dt.to_period('Y')]).count().unstack()\n",
    "gidf['CreatedAt'].plot(kind='bar', color='red')\n",
    "gidf['ClosedAt'].plot(kind='bar', color='blue')"
   ]
  }
 ],
 "metadata": {
  "kernelspec": {
   "display_name": "Python 3",
   "language": "python",
   "name": "python3"
  },
  "language_info": {
   "codemirror_mode": {
    "name": "ipython",
    "version": 3
   },
   "file_extension": ".py",
   "mimetype": "text/x-python",
   "name": "python",
   "nbconvert_exporter": "python",
   "pygments_lexer": "ipython3",
   "version": "3.7.5"
  }
 },
 "nbformat": 4,
 "nbformat_minor": 2
}
